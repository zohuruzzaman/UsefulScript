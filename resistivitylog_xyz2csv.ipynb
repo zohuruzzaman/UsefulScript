{
 "cells": [
  {
   "cell_type": "code",
   "execution_count": 8,
   "id": "893cc5d6-4b17-4f92-ad1d-18cb44c766db",
   "metadata": {},
   "outputs": [
    {
     "name": "stdout",
     "output_type": "stream",
     "text": [
      "File saved: E8_InBase_North_Toe_SinkHole_DipoleDipole_FNT2410D_trial37_InvRes8_20250517_125650.csv\n"
     ]
    }
   ],
   "source": [
    "import pandas as pd\n",
    "import numpy as np\n",
    "import datetime\n",
    "from functools import reduce\n",
    "import os\n",
    "\n",
    "# --- Step 1: Load the data ---\n",
    "file_path = \"E8_InBase_North_Toe_SinkHole_DipoleDipole_FNT2410D_trial37_InvRes8.dat\"\n",
    "df = pd.read_csv(file_path, sep='\\s+', header=None, names=[\"X\", \"Depth\", \"Resistivity\"])\n",
    "\n",
    "# --- Step 2: Convert depth to positive ---\n",
    "df[\"Depth\"] = df[\"Depth\"].abs()\n",
    "\n",
    "# --- Step 3: Define requested X values ---\n",
    "requested_x_values = [140,225]\n",
    "\n",
    "# --- Step 4: Determine available X range ---\n",
    "available_x = df[\"X\"].unique()\n",
    "x_min, x_max = available_x.min(), available_x.max()\n",
    "\n",
    "# --- Step 5: Process valid values only ---\n",
    "pivoted_logs = []\n",
    "for req_x in requested_x_values:\n",
    "    if req_x < x_min or req_x > x_max:\n",
    "        print(f\"❌ Requested X = {req_x} is out of bounds ({x_min} to {x_max}). Skipping.\")\n",
    "        continue\n",
    "\n",
    "    # Find nearest available X\n",
    "    nearest_x = available_x[np.abs(available_x - req_x).argmin()]\n",
    "    \n",
    "    # Extract and format data\n",
    "    log_df = df[df[\"X\"] == nearest_x][[\"Depth\", \"Resistivity\"]].copy().reset_index(drop=True)\n",
    "    depth_col = f\"Depth_{nearest_x}\"\n",
    "    resist_col = f\"Resistivity_{nearest_x}\"\n",
    "    log_df.columns = [depth_col, resist_col]\n",
    "\n",
    "    # Add metadata rows\n",
    "    metadata = pd.DataFrame({\n",
    "        depth_col: [f\"Requested_X: {req_x}\", None],\n",
    "        resist_col: [f\"Nearest_X: {nearest_x}\", None]\n",
    "    })\n",
    "\n",
    "    combined = pd.concat([metadata, log_df], ignore_index=True)\n",
    "    pivoted_logs.append(combined)\n",
    "\n",
    "# --- Step 6: Merge logs side by side if any valid data ---\n",
    "if pivoted_logs:\n",
    "    merged_df = reduce(lambda left, right: pd.concat([left, right], axis=1), pivoted_logs)\n",
    "\n",
    "    # --- Step 7: Save to CSV ---\n",
    "    timestamp = datetime.datetime.now().strftime(\"%Y%m%d_%H%M%S\")\n",
    "    filename = os.path.splitext(os.path.basename(file_path))[0]\n",
    "    output_filename = f\"{filename}_{timestamp}.csv\"\n",
    "    merged_df.to_csv(output_filename, index=False)\n",
    "    print(f\"File saved: {output_filename}\")\n",
    "else:\n",
    "    print(\"No valid requested X values. No file created.\")"
   ]
  }
 ],
 "metadata": {
  "kernelspec": {
   "display_name": "Python (fra_env)",
   "language": "python",
   "name": "fra_env"
  },
  "language_info": {
   "codemirror_mode": {
    "name": "ipython",
    "version": 3
   },
   "file_extension": ".py",
   "mimetype": "text/x-python",
   "name": "python",
   "nbconvert_exporter": "python",
   "pygments_lexer": "ipython3",
   "version": "3.11.12"
  }
 },
 "nbformat": 4,
 "nbformat_minor": 5
}
